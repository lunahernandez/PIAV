{
 "cells": [
  {
   "cell_type": "markdown",
   "id": "f8bbdd6a",
   "metadata": {},
   "source": [
    "# Práctica 3. Procesamiento de imágenes"
   ]
  },
  {
   "cell_type": "markdown",
   "id": "91064df3",
   "metadata": {},
   "source": [
    "\n",
    "1. El negativo de una imagen es el resultado de aplicar la siguiente operación: 255-imagen(i,j). Aplica esta operación sobre la `imagen2.png` y, posteriormente, crea un video que vaya mezclando las dos imágenes por columnas, de forma que aparezca primero el negativo de la imagen y vaya apareciendo poco a poco la imagen original. El número de iteraciones debe ser igual al ancho de la imagen y en cada una se debe ir desplazando una columna a la derecha la imagen original sobre el negativo. Guarda el vídeo con el nombre `vídeo2.mp4`. (1.0 puntos)"
   ]
  },
  {
   "cell_type": "markdown",
   "id": "8814a85d",
   "metadata": {},
   "source": [
    "2. Desarrolla una pequeña aplicación que mediante trackbars permita hacer transformaciones en el rango dinámico (logarítmica y exponencial) seleccionando la intensidad de la compresión/expansión. Selecciona dos imágenes donde el efecto de ambas transformaciones se perciba claramente. (1.0 punto)"
   ]
  },
  {
   "cell_type": "markdown",
   "id": "34d19650",
   "metadata": {},
   "source": [
    "3. Mezcla las imágenes `imagen7_1.jpg` e `imagen7_2.png` de forma no lineal utilizando la siguiente expresión:\n",
    "\n",
    "$$\n",
    "I_3 = \\frac{1 + \\cos\\left(\\frac{\\alpha}{180}\\pi\\right)}{2} I_1 + \\frac{1 - \\cos\\left(\\frac{\\alpha}{180}\\pi\\right)}{2} I_2\n",
    "$$ \n",
    "\n",
    "   Crea un vídeo de 360 frames aumentando el ángulo en 1° en cada iteración y guárdalo con el nombre de `video7.mp4`. (1.0 punto)\n"
   ]
  },
  {
   "cell_type": "markdown",
   "id": "6e9e80a4",
   "metadata": {},
   "source": [
    "4. Obtén el ecualizado del histograma de la imagen `imagen3.png`. (0.5 puntos)."
   ]
  },
  {
   "cell_type": "markdown",
   "id": "fcf112b5",
   "metadata": {},
   "source": [
    "5. Elimina el ruido de la imagen resultado del paso 4 utilizando un filtro bilateral con un diámetro d=10 y valores de sigma de 11 y 11. Guarda el resultado como `imagen3_salida.png`. (0.5 puntos)"
   ]
  },
  {
   "cell_type": "markdown",
   "id": "a62d87eb",
   "metadata": {},
   "source": [
    "6. Calcula la norma del gradiente de la `imagen5.jpg` utilizando los operadores de Sobel. Umbraliza los valores de la norma de forma que los valores mayores o iguales a 128 se igualen a 255 y los menores de 128 se igualen a 0. Finalmente, aplica un filtro Gaussiano de radio (7,7) con sigma=-1. Guarda el resultado con el nombre `imagen5_salida.png`. (1.5 puntos)"
   ]
  },
  {
   "cell_type": "markdown",
   "id": "5a192b4a",
   "metadata": {},
   "source": [
    "7. Con la `imagen4.jpg`, crea un vídeo de 100 frames aplicando un filtro mediano de radio (ksize) igual a 7. Aplica el filtro en cada iteración al resultado de la iteración anterior. Guarda el vídeo con el nombre `video4.mp4`. (0.5 puntos)"
   ]
  },
  {
   "cell_type": "markdown",
   "id": "951ea901",
   "metadata": {},
   "source": [
    "8. Elimina el ruido de la imagen6.png aplicando todos los algoritmos vistos en clase para este fin. Si es necesario aplica los filtros múltiples veces para eliminar el ruido lo mejor posible. Haz un breve estudio comparativo entre las técnicas y selecciona el mejor resultado. (1 punto) NO MEZCLAR FILTROS"
   ]
  },
  {
   "cell_type": "markdown",
   "id": "91f7854d",
   "metadata": {},
   "source": [
    "9. Investiga sobre alguna técnica de filtrado distinta a las vistas en clase. Explícala y codifica un ejemplo de uso. A continuación, propón dos filtros de tu invención (lineales o no lineales) especializados en detectar bordes o eliminar ruido. (1 punto)"
   ]
  }
 ],
 "metadata": {
  "language_info": {
   "name": "python"
  }
 },
 "nbformat": 4,
 "nbformat_minor": 5
}
