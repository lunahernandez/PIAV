{
 "cells": [
  {
   "cell_type": "markdown",
   "id": "91fbb9a6",
   "metadata": {},
   "source": [
    "# Práctica 1a"
   ]
  },
  {
   "cell_type": "markdown",
   "id": "ee9c31fa",
   "metadata": {},
   "source": [
    "Hacer un programa que cargue una imagen y que obtenga y muestre el valor RGB de cada píxel de la imagen sobre el que esté el cursor del ratón."
   ]
  },
  {
   "cell_type": "code",
   "execution_count": 2,
   "id": "c28e3db0",
   "metadata": {},
   "outputs": [],
   "source": [
    "import cv2 as cv\n",
    "\n",
    "def mouse(event, x, y, flags, param):\n",
    "    if event == cv.EVENT_MOUSEMOVE:\n",
    "        b, g, r = img[y, x]\n",
    "        img_copy = img.copy()\n",
    "\n",
    "        cv.putText(img_copy, f\"R={r}\", (230, 30), cv.FONT_HERSHEY_SIMPLEX,\n",
    "                   0.7, (0, 0, 0), 4, cv.LINE_AA)\n",
    "        cv.putText(img_copy, f\"G={g}\", (120, 30), cv.FONT_HERSHEY_SIMPLEX,\n",
    "                   0.7, (0, 0, 0), 4, cv.LINE_AA)\n",
    "        cv.putText(img_copy, f\"B={b}\", (10, 30), cv.FONT_HERSHEY_SIMPLEX,\n",
    "                   0.7, (0, 0, 0), 4, cv.LINE_AA)\n",
    "\n",
    "        cv.putText(img_copy, f\"R={r}\", (230, 30), cv.FONT_HERSHEY_SIMPLEX,\n",
    "                   0.7, (0, 0, 255), 2, cv.LINE_AA)\n",
    "        cv.putText(img_copy, f\"G={g}\", (120, 30), cv.FONT_HERSHEY_SIMPLEX,\n",
    "                   0.7, (0, 255, 0), 2, cv.LINE_AA)\n",
    "        cv.putText(img_copy, f\"B={b}\", (10, 30), cv.FONT_HERSHEY_SIMPLEX,\n",
    "                   0.7, (255, 0, 0), 2, cv.LINE_AA)\n",
    "\n",
    "        cv.imshow('Image', img_copy)\n",
    "\n",
    "img = cv.imread('images/eii.png')\n",
    "\n",
    "cv.imshow('Image', img)\n",
    "cv.setMouseCallback('Image', mouse)\n",
    "\n",
    "cv.waitKey(0)\n",
    "cv.destroyAllWindows()"
   ]
  },
  {
   "cell_type": "markdown",
   "id": "f497e7b0",
   "metadata": {},
   "source": []
  }
 ],
 "metadata": {
  "kernelspec": {
   "display_name": "Python 3",
   "language": "python",
   "name": "python3"
  },
  "language_info": {
   "codemirror_mode": {
    "name": "ipython",
    "version": 3
   },
   "file_extension": ".py",
   "mimetype": "text/x-python",
   "name": "python",
   "nbconvert_exporter": "python",
   "pygments_lexer": "ipython3",
   "version": "3.12.3"
  }
 },
 "nbformat": 4,
 "nbformat_minor": 5
}
