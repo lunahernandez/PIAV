{
 "cells": [
  {
   "cell_type": "markdown",
   "id": "91fbb9a6",
   "metadata": {},
   "source": [
    "# Práctica 1b\n",
    "Hacer un programa para dibujar las siguientes primitivas con el ratón\n",
    "- Líneas\n",
    "- Rectángulos\n",
    "- Círculos\n",
    "- Especificar el color en RGB de las primitivas\n",
    "- Definir el grosor de las líneas"
   ]
  },
  {
   "cell_type": "code",
   "execution_count": 1,
   "id": "ee9c31fa",
   "metadata": {},
   "outputs": [
    {
     "name": "stdout",
     "output_type": "stream",
     "text": [
      "\n",
      "👉 Usa los sliders para cambiar figura, color y grosor.\n",
      "Figura: 0=Línea, 1=Rectángulo, 2=Círculo\n",
      "ESC para salir.\n"
     ]
    }
   ],
   "source": [
    "import cv2 as cv\n",
    "import numpy as np\n",
    "\n",
    "# --- Cargar imagen ---\n",
    "file = 'images/eii.png'\n",
    "image = cv.imread(file)\n",
    "if image is None:\n",
    "    raise FileNotFoundError(\"No se encontró la imagen.\")\n",
    "\n",
    "canvas = image.copy()\n",
    "drawing = False\n",
    "ix, iy = -1, -1\n",
    "\n",
    "# --- Ventana principal ---\n",
    "cv.namedWindow(\"Editor\")\n",
    "\n",
    "# --- Funciones de trackbars ---\n",
    "def nothing(x):\n",
    "    pass\n",
    "\n",
    "# Trackbar para la figura (0=linea, 1=rect, 2=circle)\n",
    "cv.createTrackbar(\"Figura\", \"Editor\", 0, 2, nothing)\n",
    "# Trackbars para el color BGR\n",
    "cv.createTrackbar(\"B\", \"Editor\", 0, 255, nothing)\n",
    "cv.createTrackbar(\"G\", \"Editor\", 0, 255, nothing)\n",
    "cv.createTrackbar(\"R\", \"Editor\", 255, 255, nothing)\n",
    "# Trackbar para grosor\n",
    "cv.createTrackbar(\"Grosor\", \"Editor\", 2, 10, nothing)\n",
    "\n",
    "# --- Función de dibujo con ratón ---\n",
    "def draw(event, x, y, flags, param):\n",
    "    global ix, iy, drawing, canvas, image\n",
    "\n",
    "    figura = cv.getTrackbarPos(\"Figura\", \"Editor\")\n",
    "    b = cv.getTrackbarPos(\"B\", \"Editor\")\n",
    "    g = cv.getTrackbarPos(\"G\", \"Editor\")\n",
    "    r = cv.getTrackbarPos(\"R\", \"Editor\")\n",
    "    color = (b, g, r)\n",
    "    thickness = cv.getTrackbarPos(\"Grosor\", \"Editor\")\n",
    "\n",
    "    if event == cv.EVENT_LBUTTONDOWN:\n",
    "        drawing = True\n",
    "        ix, iy = x, y\n",
    "\n",
    "    elif event == cv.EVENT_MOUSEMOVE and drawing:\n",
    "        temp = image.copy()\n",
    "        if figura == 0:   # línea\n",
    "            cv.line(temp, (ix, iy), (x, y), color, thickness)\n",
    "        elif figura == 1: # rectángulo\n",
    "            cv.rectangle(temp, (ix, iy), (x, y), color, thickness)\n",
    "        elif figura == 2: # círculo\n",
    "            radius = int(((x - ix) ** 2 + (y - iy) ** 2) ** 0.5)\n",
    "            cv.circle(temp, (ix, iy), radius, color, thickness)\n",
    "        canvas = temp\n",
    "\n",
    "    elif event == cv.EVENT_LBUTTONUP:\n",
    "        drawing = False\n",
    "        if figura == 0:\n",
    "            cv.line(image, (ix, iy), (x, y), color, thickness)\n",
    "        elif figura == 1:\n",
    "            cv.rectangle(image, (ix, iy), (x, y), color, thickness)\n",
    "        elif figura == 2:\n",
    "            radius = int(((x - ix) ** 2 + (y - iy) ** 2) ** 0.5)\n",
    "            cv.circle(image, (ix, iy), radius, color, thickness)\n",
    "        canvas = image.copy()\n",
    "\n",
    "# Asociar el callback\n",
    "cv.setMouseCallback(\"Editor\", draw)\n",
    "\n",
    "print(\"\\n👉 Usa los sliders para cambiar figura, color y grosor.\")\n",
    "print(\"Figura: 0=Línea, 1=Rectángulo, 2=Círculo\")\n",
    "print(\"ESC para salir.\")\n",
    "\n",
    "# Loop principal\n",
    "while True:\n",
    "    cv.imshow(\"Editor\", canvas)\n",
    "    if cv.waitKey(1) & 0xFF == 27:  # ESC\n",
    "        break\n",
    "\n",
    "cv.destroyAllWindows()\n"
   ]
  }
 ],
 "metadata": {
  "kernelspec": {
   "display_name": "Python 3",
   "language": "python",
   "name": "python3"
  },
  "language_info": {
   "codemirror_mode": {
    "name": "ipython",
    "version": 3
   },
   "file_extension": ".py",
   "mimetype": "text/x-python",
   "name": "python",
   "nbconvert_exporter": "python",
   "pygments_lexer": "ipython3",
   "version": "3.12.3"
  }
 },
 "nbformat": 4,
 "nbformat_minor": 5
}
