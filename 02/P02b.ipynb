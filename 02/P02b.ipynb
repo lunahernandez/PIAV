{
 "cells": [
  {
   "cell_type": "markdown",
   "id": "e649bb3d",
   "metadata": {},
   "source": [
    "# Práctica 2b. \n",
    "Dada una imagen trazar una ventana de proyección y proyectar la imagen."
   ]
  },
  {
   "cell_type": "code",
   "execution_count": 6,
   "id": "9b83f348",
   "metadata": {},
   "outputs": [
    {
     "name": "stdout",
     "output_type": "stream",
     "text": [
      "Haz click en 4 puntos fuente (verde), luego en 4 puntos destino (rojo).\n",
      "Selecciona ahora los 4 puntos destino (rojo).\n",
      "Calculando proyección...\n",
      "Resultado guardado en 'output/resultado.png'\n"
     ]
    }
   ],
   "source": [
    "import cv2\n",
    "import numpy as np\n",
    "\n",
    "src_points = []\n",
    "dst_points = []\n",
    "phase = 0\n",
    "image = None\n",
    "clone = None\n",
    "ruta_salida_global = None\n",
    "\n",
    "def ordenar_cuatro_puntos(pts):\n",
    "    pts = np.array(pts, dtype=np.float32)\n",
    "    s = pts.sum(axis=1)\n",
    "    diff = np.diff(pts, axis=1)\n",
    "    tl = pts[np.argmin(s)]\n",
    "    br = pts[np.argmax(s)]\n",
    "    tr = pts[np.argmin(diff)]\n",
    "    bl = pts[np.argmax(diff)]\n",
    "    return np.array([tl, tr, br, bl], dtype=np.float32)\n",
    "\n",
    "def mouse_callback(event, x, y, flags, param):\n",
    "    global src_points, dst_points, phase, image, clone\n",
    "    if event == cv2.EVENT_LBUTTONDOWN:\n",
    "        if phase == 0 and len(src_points) < 4:\n",
    "            src_points.append([x, y])\n",
    "            cv2.circle(image, (x, y), 5, (0, 255, 0), -1)\n",
    "            cv2.imshow(\"Proyeccion interactiva\", image)\n",
    "            if len(src_points) == 4:\n",
    "                print(\"Selecciona ahora los 4 puntos destino (rojo).\")\n",
    "                phase = 1\n",
    "        elif phase == 1 and len(dst_points) < 4:\n",
    "            dst_points.append([x, y])\n",
    "            cv2.circle(image, (x, y), 5, (0, 0, 255), -1)\n",
    "            cv2.imshow(\"Proyeccion interactiva\", image)\n",
    "            if len(dst_points) == 4:\n",
    "                print(\"Calculando proyección...\")\n",
    "                proyectar()\n",
    "\n",
    "def proyectar():\n",
    "    global src_points, dst_points, clone, image, ruta_salida_global\n",
    "    src = ordenar_cuatro_puntos(src_points)\n",
    "    dst = ordenar_cuatro_puntos(dst_points)\n",
    "    H, _ = cv2.findHomography(src, dst)\n",
    "    h, w = clone.shape[:2]\n",
    "    warped = cv2.warpPerspective(clone, H, (w, h))\n",
    "    mask = np.zeros((h, w), dtype=np.uint8)\n",
    "    cv2.fillPoly(mask, [np.int32(dst)], 255)\n",
    "    result = np.zeros_like(clone)\n",
    "    cv2.copyTo(warped, mask, result)\n",
    "    cv2.imshow(\"Proyeccion interactiva\", result)\n",
    "    cv2.imwrite(ruta_salida_global, result)\n",
    "    print(f\"Resultado guardado en '{ruta_salida_global}'\")\n",
    "\n",
    "def main(ruta_entrada=\"images/cats.png\", ruta_salida=\"output/resultado.png\"):\n",
    "    global image, clone, ruta_salida_global\n",
    "    ruta_salida_global = ruta_salida\n",
    "    clone = cv2.imread(ruta_entrada)\n",
    "    if clone is None:\n",
    "        raise FileNotFoundError(f\"No se pudo cargar la imagen en {ruta_entrada}\")\n",
    "    image = clone.copy()\n",
    "    cv2.namedWindow(\"Proyeccion interactiva\")\n",
    "    cv2.setMouseCallback(\"Proyeccion interactiva\", mouse_callback)\n",
    "    cv2.imshow(\"Proyeccion interactiva\", image)\n",
    "    print(\"Haz click en 4 puntos fuente (verde), luego en 4 puntos destino (rojo).\")\n",
    "    cv2.waitKey(0)\n",
    "    cv2.destroyAllWindows()\n",
    "\n",
    "if __name__ == \"__main__\":\n",
    "    main(\"images/cats.png\", \"output/resultado.png\")\n",
    "\n"
   ]
  }
 ],
 "metadata": {
  "kernelspec": {
   "display_name": "Python 3",
   "language": "python",
   "name": "python3"
  },
  "language_info": {
   "codemirror_mode": {
    "name": "ipython",
    "version": 3
   },
   "file_extension": ".py",
   "mimetype": "text/x-python",
   "name": "python",
   "nbconvert_exporter": "python",
   "pygments_lexer": "ipython3",
   "version": "3.12.3"
  }
 },
 "nbformat": 4,
 "nbformat_minor": 5
}
