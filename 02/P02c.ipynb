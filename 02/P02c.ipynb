{
 "cells": [
  {
   "cell_type": "markdown",
   "id": "fd8158ad",
   "metadata": {},
   "source": [
    "# Práctica 2b"
   ]
  },
  {
   "cell_type": "markdown",
   "id": "771c89ff",
   "metadata": {},
   "source": [
    "Desarrollar una aplicación que lleve a cabo distorsiones de la lente. Para ello los coeficientes de distorsión deben gobernarse a través de una interfaz."
   ]
  },
  {
   "cell_type": "code",
   "execution_count": 2,
   "id": "5fcd9c0c",
   "metadata": {},
   "outputs": [],
   "source": [
    "import cv2\n",
    "import numpy as np\n",
    "\n",
    "def apply_distortion(image, k1, k2, p1, p2, k3):\n",
    "    h, w = image.shape[:2]\n",
    "    distCoeff = np.zeros((5,1), np.float64)\n",
    "    distCoeff[0,0] = k1\n",
    "    distCoeff[1,0] = k2\n",
    "    distCoeff[2,0] = p1\n",
    "    distCoeff[3,0] = p2\n",
    "    distCoeff[4,0] = k3\n",
    "\n",
    "    cam = np.eye(3, dtype=np.float32)\n",
    "    cam[0,2] = w/2.0\n",
    "    cam[1,2] = h/2.0\n",
    "    cam[0,0] = 10.0\n",
    "    cam[1,1] = 10.0\n",
    "\n",
    "    distorted_img = cv2.undistort(image, cam, distCoeff)\n",
    "    return distorted_img\n",
    "\n",
    "image = cv2.imread('images/eii.png')\n",
    "if image is None:\n",
    "    raise FileNotFoundError(\"No se pudo cargar la imagen\")\n",
    "\n",
    "cv2.namedWindow(\"Distorsion interactiva\")\n",
    "cv2.createTrackbar(\"k1\", \"Distorsion interactiva\", 50, 100, lambda x: None)\n",
    "cv2.createTrackbar(\"k2\", \"Distorsion interactiva\", 50, 100, lambda x: None)\n",
    "cv2.createTrackbar(\"p1\", \"Distorsion interactiva\", 50, 100, lambda x: None)\n",
    "cv2.createTrackbar(\"p2\", \"Distorsion interactiva\", 50, 100, lambda x: None)\n",
    "cv2.createTrackbar(\"k3\", \"Distorsion interactiva\", 50, 100, lambda x: None)\n",
    "\n",
    "while True:\n",
    "    k1 = (cv2.getTrackbarPos(\"k1\", \"Distorsion interactiva\") - 50) / 5000.0\n",
    "    k2 = (cv2.getTrackbarPos(\"k2\", \"Distorsion interactiva\") - 50) / 5000.0\n",
    "    p1 = (cv2.getTrackbarPos(\"p1\", \"Distorsion interactiva\") - 50) / 5000.0\n",
    "    p2 = (cv2.getTrackbarPos(\"p2\", \"Distorsion interactiva\") - 50) / 5000.0\n",
    "    k3 = (cv2.getTrackbarPos(\"k3\", \"Distorsion interactiva\") - 50) / 5000.0\n",
    "\n",
    "    distorted = apply_distortion(image, k1, k2, p1, p2, k3)\n",
    "\n",
    "    cv2.imshow(\"Distorsion interactiva\", distorted)\n",
    "    key = cv2.waitKey(30) & 0xFF\n",
    "    if key == ord(\"q\") or key == 27:\n",
    "        break\n",
    "\n",
    "cv2.destroyAllWindows()\n"
   ]
  },
  {
   "cell_type": "markdown",
   "id": "a3cb9173",
   "metadata": {},
   "source": [
    "Funcionalidad de seleccionar el centro de distorsión con el ratón:"
   ]
  },
  {
   "cell_type": "code",
   "execution_count": 1,
   "id": "6faf0d94",
   "metadata": {},
   "outputs": [
    {
     "ename": "error",
     "evalue": "OpenCV(4.12.0) D:\\a\\opencv-python\\opencv-python\\opencv\\modules\\highgui\\src\\window_w32.cpp:2570: error: (-27:Null pointer) NULL window: 'Distorsion interactiva' in function 'cvGetTrackbarPos'\n",
     "output_type": "error",
     "traceback": [
      "\u001b[31m---------------------------------------------------------------------------\u001b[39m",
      "\u001b[31merror\u001b[39m                                     Traceback (most recent call last)",
      "\u001b[36mCell\u001b[39m\u001b[36m \u001b[39m\u001b[32mIn[1]\u001b[39m\u001b[32m, line 47\u001b[39m\n\u001b[32m     44\u001b[39m cv2.createTrackbar(\u001b[33m\"\u001b[39m\u001b[33mk3\u001b[39m\u001b[33m\"\u001b[39m, \u001b[33m\"\u001b[39m\u001b[33mDistorsion interactiva\u001b[39m\u001b[33m\"\u001b[39m, \u001b[32m50\u001b[39m, \u001b[32m100\u001b[39m, \u001b[38;5;28;01mlambda\u001b[39;00m x: \u001b[38;5;28;01mNone\u001b[39;00m)\n\u001b[32m     46\u001b[39m \u001b[38;5;28;01mwhile\u001b[39;00m \u001b[38;5;28;01mTrue\u001b[39;00m:\n\u001b[32m---> \u001b[39m\u001b[32m47\u001b[39m     k1 = (\u001b[43mcv2\u001b[49m\u001b[43m.\u001b[49m\u001b[43mgetTrackbarPos\u001b[49m\u001b[43m(\u001b[49m\u001b[33;43m\"\u001b[39;49m\u001b[33;43mk1\u001b[39;49m\u001b[33;43m\"\u001b[39;49m\u001b[43m,\u001b[49m\u001b[43m \u001b[49m\u001b[33;43m\"\u001b[39;49m\u001b[33;43mDistorsion interactiva\u001b[39;49m\u001b[33;43m\"\u001b[39;49m\u001b[43m)\u001b[49m - \u001b[32m50\u001b[39m) / \u001b[32m5000.0\u001b[39m\n\u001b[32m     48\u001b[39m     k2 = (cv2.getTrackbarPos(\u001b[33m\"\u001b[39m\u001b[33mk2\u001b[39m\u001b[33m\"\u001b[39m, \u001b[33m\"\u001b[39m\u001b[33mDistorsion interactiva\u001b[39m\u001b[33m\"\u001b[39m) - \u001b[32m50\u001b[39m) / \u001b[32m5000.0\u001b[39m\n\u001b[32m     49\u001b[39m     p1 = (cv2.getTrackbarPos(\u001b[33m\"\u001b[39m\u001b[33mp1\u001b[39m\u001b[33m\"\u001b[39m, \u001b[33m\"\u001b[39m\u001b[33mDistorsion interactiva\u001b[39m\u001b[33m\"\u001b[39m) - \u001b[32m50\u001b[39m) / \u001b[32m5000.0\u001b[39m\n",
      "\u001b[31merror\u001b[39m: OpenCV(4.12.0) D:\\a\\opencv-python\\opencv-python\\opencv\\modules\\highgui\\src\\window_w32.cpp:2570: error: (-27:Null pointer) NULL window: 'Distorsion interactiva' in function 'cvGetTrackbarPos'\n"
     ]
    }
   ],
   "source": [
    "import cv2\n",
    "import numpy as np\n",
    "\n",
    "cx, cy = None, None\n",
    "\n",
    "def apply_distortion(image, k1, k2, p1, p2, k3, center=None):\n",
    "    h, w = image.shape[:2]\n",
    "    distCoeff = np.zeros((5,1), np.float64)\n",
    "    distCoeff[0,0] = k1\n",
    "    distCoeff[1,0] = k2\n",
    "    distCoeff[2,0] = p1\n",
    "    distCoeff[3,0] = p2\n",
    "    distCoeff[4,0] = k3\n",
    "\n",
    "    cam = np.eye(3, dtype=np.float32)\n",
    "    if center is None:\n",
    "        cam[0,2] = w/2.0\n",
    "        cam[1,2] = h/2.0\n",
    "    else:\n",
    "        cam[0,2] = center[0]\n",
    "        cam[1,2] = center[1]\n",
    "\n",
    "    cam[0,0] = 10.0\n",
    "    cam[1,1] = 10.0\n",
    "\n",
    "    distorted_img = cv2.undistort(image, cam, distCoeff)\n",
    "    return distorted_img\n",
    "\n",
    "def mouse_click(event, x, y, flags, param):\n",
    "    global cx, cy\n",
    "    if event == cv2.EVENT_LBUTTONDOWN:\n",
    "        cx, cy = x, y\n",
    "\n",
    "image = cv2.imread('images/eii.png')\n",
    "if image is None:\n",
    "    raise FileNotFoundError(\"No se pudo cargar la imagen\")\n",
    "\n",
    "cv2.namedWindow(\"Distorsion interactiva\")\n",
    "cv2.setMouseCallback(\"Distorsion interactiva\", mouse_click)\n",
    "cv2.createTrackbar(\"k1\", \"Distorsion interactiva\", 50, 100, lambda x: None)\n",
    "cv2.createTrackbar(\"k2\", \"Distorsion interactiva\", 50, 100, lambda x: None)\n",
    "cv2.createTrackbar(\"p1\", \"Distorsion interactiva\", 50, 100, lambda x: None)\n",
    "cv2.createTrackbar(\"p2\", \"Distorsion interactiva\", 50, 100, lambda x: None)\n",
    "cv2.createTrackbar(\"k3\", \"Distorsion interactiva\", 50, 100, lambda x: None)\n",
    "\n",
    "while True:\n",
    "    k1 = (cv2.getTrackbarPos(\"k1\", \"Distorsion interactiva\") - 50) / 5000.0\n",
    "    k2 = (cv2.getTrackbarPos(\"k2\", \"Distorsion interactiva\") - 50) / 5000.0\n",
    "    p1 = (cv2.getTrackbarPos(\"p1\", \"Distorsion interactiva\") - 50) / 5000.0\n",
    "    p2 = (cv2.getTrackbarPos(\"p2\", \"Distorsion interactiva\") - 50) / 5000.0\n",
    "    k3 = (cv2.getTrackbarPos(\"k3\", \"Distorsion interactiva\") - 50) / 5000.0\n",
    "\n",
    "    distorted = apply_distortion(image, k1, k2, p1, p2, k3, center=(cx, cy) if cx is not None else None)\n",
    "\n",
    "    display = distorted.copy()\n",
    "    if cx is not None and cy is not None:\n",
    "        cv2.circle(display, (cx, cy), 5, (0,0,255), -1)\n",
    "\n",
    "    cv2.imshow(\"Distorsion interactiva\", display)\n",
    "    key = cv2.waitKey(30) & 0xFF\n",
    "    if key == ord(\"q\") or key == 27:\n",
    "        break\n",
    "\n",
    "cv2.destroyAllWindows()\n"
   ]
  },
  {
   "cell_type": "markdown",
   "id": "09728aff",
   "metadata": {},
   "source": []
  }
 ],
 "metadata": {
  "kernelspec": {
   "display_name": "Python 3",
   "language": "python",
   "name": "python3"
  },
  "language_info": {
   "codemirror_mode": {
    "name": "ipython",
    "version": 3
   },
   "file_extension": ".py",
   "mimetype": "text/x-python",
   "name": "python",
   "nbconvert_exporter": "python",
   "pygments_lexer": "ipython3",
   "version": "3.13.7"
  }
 },
 "nbformat": 4,
 "nbformat_minor": 5
}
