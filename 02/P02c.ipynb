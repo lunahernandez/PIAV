{
 "cells": [
  {
   "cell_type": "markdown",
   "id": "fd8158ad",
   "metadata": {},
   "source": [
    "# Práctica 2b"
   ]
  },
  {
   "cell_type": "markdown",
   "id": "771c89ff",
   "metadata": {},
   "source": [
    "Desarrollar una aplicación que lleve a cabo distorsiones de la lente. Para ello los coeficientes de distorsión deben gobernarse a través de una interfaz."
   ]
  },
  {
   "cell_type": "code",
   "execution_count": 7,
   "id": "b8799dc7",
   "metadata": {},
   "outputs": [],
   "source": [
    "import cv2\n",
    "import numpy as np\n",
    "\n",
    "# Cargar imagen\n",
    "img = cv2.imread(\"images/cats.png\")\n",
    "if img is None:\n",
    "    raise FileNotFoundError(\"No se pudo cargar la imagen.\")\n",
    "\n",
    "h, w = img.shape[:2]\n",
    "\n",
    "# Matriz intrínseca simulada (supone cámara con centro óptico en el medio)\n",
    "K = np.array([[w, 0, w/2],\n",
    "              [0, w, h/2],\n",
    "              [0, 0,   1]], dtype=np.float32)\n",
    "\n",
    "cv2.namedWindow(\"Distorsión\")\n",
    "\n",
    "# Crear sliders (centro = 50 => coef = 0)\n",
    "cv2.createTrackbar(\"k1\", \"Distorsión\", 50, 100, lambda x: None)\n",
    "cv2.createTrackbar(\"k2\", \"Distorsión\", 50, 100, lambda x: None)\n",
    "cv2.createTrackbar(\"p1\", \"Distorsión\", 50, 100, lambda x: None)\n",
    "cv2.createTrackbar(\"p2\", \"Distorsión\", 50, 100, lambda x: None)\n",
    "cv2.createTrackbar(\"k3\", \"Distorsión\", 50, 100, lambda x: None)\n",
    "\n",
    "while True:\n",
    "    # Obtener valores de sliders\n",
    "    k1 = (cv2.getTrackbarPos(\"k1\", \"Distorsión\") - 50) / 100.0\n",
    "    k2 = (cv2.getTrackbarPos(\"k2\", \"Distorsión\") - 50) / 100.0\n",
    "    p1 = (cv2.getTrackbarPos(\"p1\", \"Distorsión\") - 50) / 500.0\n",
    "    p2 = (cv2.getTrackbarPos(\"p2\", \"Distorsión\") - 50) / 500.0\n",
    "    k3 = (cv2.getTrackbarPos(\"k3\", \"Distorsión\") - 50) / 100.0\n",
    "\n",
    "    # Vector de distorsión\n",
    "    dist = np.array([k1, k2, p1, p2, k3], dtype=np.float32)\n",
    "\n",
    "    # Aplicar distorsión\n",
    "    map1, map2 = cv2.initUndistortRectifyMap(K, dist, None, K, (w, h), cv2.CV_32FC1)\n",
    "    distorted = cv2.remap(img, map1, map2, interpolation=cv2.INTER_LINEAR)\n",
    "\n",
    "    # Mostrar\n",
    "    cv2.imshow(\"Distorsión\", distorted)\n",
    "\n",
    "    # Salir con Q\n",
    "    key = cv2.waitKey(30) & 0xFF\n",
    "    if key == ord(\"q\") or key == 27:\n",
    "        break\n",
    "\n",
    "cv2.destroyAllWindows()\n"
   ]
  },
  {
   "cell_type": "markdown",
   "id": "09728aff",
   "metadata": {},
   "source": []
  }
 ],
 "metadata": {
  "kernelspec": {
   "display_name": "Python 3",
   "language": "python",
   "name": "python3"
  },
  "language_info": {
   "codemirror_mode": {
    "name": "ipython",
    "version": 3
   },
   "file_extension": ".py",
   "mimetype": "text/x-python",
   "name": "python",
   "nbconvert_exporter": "python",
   "pygments_lexer": "ipython3",
   "version": "3.12.3"
  }
 },
 "nbformat": 4,
 "nbformat_minor": 5
}
