{
 "cells": [
  {
   "cell_type": "markdown",
   "id": "fd8158ad",
   "metadata": {},
   "source": [
    "# Práctica 2c"
   ]
  },
  {
   "cell_type": "markdown",
   "id": "771c89ff",
   "metadata": {},
   "source": [
    "Desarrollar una aplicación que lleve a cabo distorsiones de la lente. Para ello los coeficientes de distorsión deben gobernarse a través de una interfaz.\n",
    "\n",
    "> **Nota:** Funcionalidad de seleccionar el centro de distorsión con el ratón añadida."
   ]
  },
  {
   "cell_type": "code",
   "execution_count": null,
   "id": "6faf0d94",
   "metadata": {},
   "outputs": [],
   "source": [
    "import cv2\n",
    "import numpy as np\n",
    "\n",
    "cx, cy = None, None\n",
    "\n",
    "def apply_distortion(image, k1, k2, p1, p2, k3, center=None):\n",
    "    h, w = image.shape[:2]\n",
    "    distCoeff = np.zeros((5,1), np.float64)\n",
    "    distCoeff[0,0] = k1 # radial k1\n",
    "    distCoeff[1,0] = k2 # radial k2\n",
    "    distCoeff[2,0] = p1  # tangencial p1\n",
    "    distCoeff[3,0] = p2  # tangencial p2\n",
    "    distCoeff[4,0] = k3 # radial k3\n",
    "\n",
    "    cam = np.eye(3, dtype=np.float32)\n",
    "    if center is None:\n",
    "        cam[0,2] = w/2.0\n",
    "        cam[1,2] = h/2.0\n",
    "    else:\n",
    "        cam[0,2] = center[0]\n",
    "        cam[1,2] = center[1]\n",
    "\n",
    "    cam[0,0] = 10.0 # Definir longitud focal x\n",
    "    cam[1,1] = 10.0 # Definir longitud focal y\n",
    "\n",
    "    distorted_img = cv2.undistort(image, cam, distCoeff)\n",
    "    return distorted_img\n",
    "\n",
    "def mouse_click(event, x, y, flags, param):\n",
    "    global cx, cy\n",
    "    if event == cv2.EVENT_LBUTTONDOWN:\n",
    "        cx, cy = x, y # centro de distorsión\n",
    "\n",
    "image = cv2.imread('images/eii.png')\n",
    "if image is None:\n",
    "    raise FileNotFoundError(\"No se pudo cargar la imagen\")\n",
    "\n",
    "cv2.namedWindow(\"Distorsion interactiva\")\n",
    "cv2.setMouseCallback(\"Distorsion interactiva\", mouse_click)\n",
    "cv2.createTrackbar(\"k1\", \"Distorsion interactiva\", 50, 100, lambda x: None)\n",
    "cv2.createTrackbar(\"k2\", \"Distorsion interactiva\", 50, 100, lambda x: None)\n",
    "cv2.createTrackbar(\"p1\", \"Distorsion interactiva\", 50, 100, lambda x: None)\n",
    "cv2.createTrackbar(\"p2\", \"Distorsion interactiva\", 50, 100, lambda x: None)\n",
    "cv2.createTrackbar(\"k3\", \"Distorsion interactiva\", 50, 100, lambda x: None)\n",
    "\n",
    "while True:\n",
    "    # punto medio en 50\n",
    "    k1 = (cv2.getTrackbarPos(\"k1\", \"Distorsion interactiva\") - 50) / 5000.0\n",
    "    k2 = (cv2.getTrackbarPos(\"k2\", \"Distorsion interactiva\") - 50) / 5000.0\n",
    "    p1 = (cv2.getTrackbarPos(\"p1\", \"Distorsion interactiva\") - 50) / 5000.0\n",
    "    p2 = (cv2.getTrackbarPos(\"p2\", \"Distorsion interactiva\") - 50) / 5000.0\n",
    "    k3 = (cv2.getTrackbarPos(\"k3\", \"Distorsion interactiva\") - 50) / 5000.0\n",
    "\n",
    "    distorted = apply_distortion(image, k1, k2, p1, p2, k3, center=(cx, cy) if cx is not None else None)\n",
    "\n",
    "    display = distorted.copy()\n",
    "    if cx is not None and cy is not None:\n",
    "        cv2.circle(display, (cx, cy), 5, (0,0,255), -1)\n",
    "\n",
    "    cv2.imshow(\"Distorsion interactiva\", display)\n",
    "    key = cv2.waitKey(30) & 0xFF\n",
    "    if key == ord(\"q\") or key == 27:\n",
    "        break\n",
    "\n",
    "cv2.destroyAllWindows()\n"
   ]
  },
  {
   "cell_type": "markdown",
   "id": "09728aff",
   "metadata": {},
   "source": []
  }
 ],
 "metadata": {
  "kernelspec": {
   "display_name": "Python 3",
   "language": "python",
   "name": "python3"
  },
  "language_info": {
   "codemirror_mode": {
    "name": "ipython",
    "version": 3
   },
   "file_extension": ".py",
   "mimetype": "text/x-python",
   "name": "python",
   "nbconvert_exporter": "python",
   "pygments_lexer": "ipython3",
   "version": "3.13.7"
  }
 },
 "nbformat": 4,
 "nbformat_minor": 5
}
